{
 "cells": [
  {
   "cell_type": "code",
   "execution_count": 20,
   "metadata": {},
   "outputs": [],
   "source": [
    "import torch\n",
    "import torch.nn as nn\n",
    "from torch.autograd import  Variable\n",
    "import numpy as np\n",
    "import matplotlib.pyplot as plt"
   ]
  },
  {
   "cell_type": "code",
   "execution_count": 2,
   "metadata": {},
   "outputs": [
    {
     "data": {
      "text/plain": [
       "[0, 1, 2, 3, 4, 5, 6, 7, 8, 9, 10]"
      ]
     },
     "execution_count": 2,
     "metadata": {},
     "output_type": "execute_result"
    }
   ],
   "source": [
    "x_values = [i for i in range(11)]\n",
    "x_values"
   ]
  },
  {
   "cell_type": "code",
   "execution_count": 5,
   "metadata": {},
   "outputs": [
    {
     "data": {
      "text/plain": [
       "array([ 0.,  1.,  2.,  3.,  4.,  5.,  6.,  7.,  8.,  9., 10.],\n",
       "      dtype=float32)"
      ]
     },
     "execution_count": 5,
     "metadata": {},
     "output_type": "execute_result"
    }
   ],
   "source": [
    "x_train = np.array(x_values, dtype=np.float32)\n",
    "x_train"
   ]
  },
  {
   "cell_type": "code",
   "execution_count": 6,
   "metadata": {},
   "outputs": [],
   "source": [
    "x_train = x_train.reshape(-1,1)"
   ]
  },
  {
   "cell_type": "code",
   "execution_count": 8,
   "metadata": {},
   "outputs": [
    {
     "data": {
      "text/plain": [
       "[1, 3, 5, 7, 9, 11, 13, 15, 17, 19, 21]"
      ]
     },
     "execution_count": 8,
     "metadata": {},
     "output_type": "execute_result"
    }
   ],
   "source": [
    "y_values = [2* i + 1 for i in x_values]\n",
    "y_values"
   ]
  },
  {
   "cell_type": "code",
   "execution_count": 9,
   "metadata": {},
   "outputs": [
    {
     "data": {
      "text/plain": [
       "array([ 1.,  3.,  5.,  7.,  9., 11., 13., 15., 17., 19., 21.],\n",
       "      dtype=float32)"
      ]
     },
     "execution_count": 9,
     "metadata": {},
     "output_type": "execute_result"
    }
   ],
   "source": [
    "y_train = np.array(y_values, dtype=np.float32)\n",
    "y_train"
   ]
  },
  {
   "cell_type": "code",
   "execution_count": 10,
   "metadata": {},
   "outputs": [],
   "source": [
    "y_train = y_train.reshape(-1,1)"
   ]
  },
  {
   "cell_type": "code",
   "execution_count": 12,
   "metadata": {},
   "outputs": [],
   "source": [
    "#create a class\n",
    "class LinearRegressionModel(nn.Module):\n",
    "    def __init__(self, input_size, output_size):\n",
    "        super(LinearRegressionModel,self).__init__()\n",
    "        self.linear = nn.Linear(input_size, output_size)\n",
    "    \n",
    "    def forward(self,x):\n",
    "        out = self.linear(x)\n",
    "        return out"
   ]
  },
  {
   "cell_type": "code",
   "execution_count": 13,
   "metadata": {},
   "outputs": [],
   "source": [
    "input_size = 1\n",
    "output_size = 1\n",
    "model = LinearRegressionModel(input_size, output_size)"
   ]
  },
  {
   "cell_type": "code",
   "execution_count": 14,
   "metadata": {},
   "outputs": [],
   "source": [
    "criterion = nn.MSELoss()"
   ]
  },
  {
   "cell_type": "code",
   "execution_count": 15,
   "metadata": {},
   "outputs": [],
   "source": [
    "learning_rate = 0.01\n",
    "optimizer = torch.optim.SGD(model.parameters(), lr=learning_rate)"
   ]
  },
  {
   "cell_type": "code",
   "execution_count": 16,
   "metadata": {},
   "outputs": [],
   "source": [
    "epochs = 100"
   ]
  },
  {
   "cell_type": "code",
   "execution_count": 17,
   "metadata": {},
   "outputs": [
    {
     "name": "stdout",
     "output_type": "stream",
     "text": [
      "epoch 1, loss 70.01628875732422\n",
      "epoch 2, loss 5.837345123291016\n",
      "epoch 3, loss 0.6010619401931763\n",
      "epoch 4, loss 0.17256027460098267\n",
      "epoch 5, loss 0.136229008436203\n",
      "epoch 6, loss 0.13190150260925293\n",
      "epoch 7, loss 0.13019971549510956\n",
      "epoch 8, loss 0.12872719764709473\n",
      "epoch 9, loss 0.1272881031036377\n",
      "epoch 10, loss 0.1258666217327118\n",
      "epoch 11, loss 0.12446106225252151\n",
      "epoch 12, loss 0.12307124584913254\n",
      "epoch 13, loss 0.12169691175222397\n",
      "epoch 14, loss 0.12033804506063461\n",
      "epoch 15, loss 0.11899421364068985\n",
      "epoch 16, loss 0.1176653727889061\n",
      "epoch 17, loss 0.11635147780179977\n",
      "epoch 18, loss 0.11505218595266342\n",
      "epoch 19, loss 0.11376743763685226\n",
      "epoch 20, loss 0.11249703913927078\n",
      "epoch 21, loss 0.11124074459075928\n",
      "epoch 22, loss 0.10999845713376999\n",
      "epoch 23, loss 0.1087702289223671\n",
      "epoch 24, loss 0.1075555756688118\n",
      "epoch 25, loss 0.1063544899225235\n",
      "epoch 26, loss 0.1051669642329216\n",
      "epoch 27, loss 0.10399259626865387\n",
      "epoch 28, loss 0.1028311550617218\n",
      "epoch 29, loss 0.1016828715801239\n",
      "epoch 30, loss 0.10054729878902435\n",
      "epoch 31, loss 0.09942471981048584\n",
      "epoch 32, loss 0.0983143150806427\n",
      "epoch 33, loss 0.09721646457910538\n",
      "epoch 34, loss 0.09613089263439178\n",
      "epoch 35, loss 0.09505745768547058\n",
      "epoch 36, loss 0.09399595111608505\n",
      "epoch 37, loss 0.09294638782739639\n",
      "epoch 38, loss 0.09190846234560013\n",
      "epoch 39, loss 0.09088209271430969\n",
      "epoch 40, loss 0.08986721932888031\n",
      "epoch 41, loss 0.08886362612247467\n",
      "epoch 42, loss 0.08787123113870621\n",
      "epoch 43, loss 0.0868900716304779\n",
      "epoch 44, loss 0.08591977506875992\n",
      "epoch 45, loss 0.0849604457616806\n",
      "epoch 46, loss 0.08401156961917877\n",
      "epoch 47, loss 0.08307349681854248\n",
      "epoch 48, loss 0.08214587718248367\n",
      "epoch 49, loss 0.08122861385345459\n",
      "epoch 50, loss 0.08032150566577911\n",
      "epoch 51, loss 0.07942454516887665\n",
      "epoch 52, loss 0.07853768765926361\n",
      "epoch 53, loss 0.07766067236661911\n",
      "epoch 54, loss 0.07679333537817001\n",
      "epoch 55, loss 0.07593590766191483\n",
      "epoch 56, loss 0.07508786767721176\n",
      "epoch 57, loss 0.07424937933683395\n",
      "epoch 58, loss 0.0734202191233635\n",
      "epoch 59, loss 0.072600357234478\n",
      "epoch 60, loss 0.0717896968126297\n",
      "epoch 61, loss 0.0709879994392395\n",
      "epoch 62, loss 0.07019532471895218\n",
      "epoch 63, loss 0.06941137462854385\n",
      "epoch 64, loss 0.06863633543252945\n",
      "epoch 65, loss 0.06786981970071793\n",
      "epoch 66, loss 0.06711192429065704\n",
      "epoch 67, loss 0.06636255979537964\n",
      "epoch 68, loss 0.06562135368585587\n",
      "epoch 69, loss 0.06488866358995438\n",
      "epoch 70, loss 0.06416404992341995\n",
      "epoch 71, loss 0.06344758719205856\n",
      "epoch 72, loss 0.0627390518784523\n",
      "epoch 73, loss 0.06203852593898773\n",
      "epoch 74, loss 0.06134564429521561\n",
      "epoch 75, loss 0.06066068634390831\n",
      "epoch 76, loss 0.0599832758307457\n",
      "epoch 77, loss 0.05931339040398598\n",
      "epoch 78, loss 0.058651018887758255\n",
      "epoch 79, loss 0.05799603834748268\n",
      "epoch 80, loss 0.05734851211309433\n",
      "epoch 81, loss 0.05670804902911186\n",
      "epoch 82, loss 0.05607494339346886\n",
      "epoch 83, loss 0.055448658764362335\n",
      "epoch 84, loss 0.05482950806617737\n",
      "epoch 85, loss 0.05421716347336769\n",
      "epoch 86, loss 0.05361180752515793\n",
      "epoch 87, loss 0.05301312357187271\n",
      "epoch 88, loss 0.05242107808589935\n",
      "epoch 89, loss 0.05183577165007591\n",
      "epoch 90, loss 0.0512569434940815\n",
      "epoch 91, loss 0.05068451166152954\n",
      "epoch 92, loss 0.05011863261461258\n",
      "epoch 93, loss 0.0495588555932045\n",
      "epoch 94, loss 0.04900539666414261\n",
      "epoch 95, loss 0.04845821484923363\n",
      "epoch 96, loss 0.04791710898280144\n",
      "epoch 97, loss 0.04738202318549156\n",
      "epoch 98, loss 0.04685279726982117\n",
      "epoch 99, loss 0.046329718083143234\n",
      "epoch 100, loss 0.04581238701939583\n"
     ]
    },
    {
     "name": "stderr",
     "output_type": "stream",
     "text": [
      "/usr/local/lib/python3.5/dist-packages/ipykernel_launcher.py:22: UserWarning: invalid index of a 0-dim tensor. This will be an error in PyTorch 0.5. Use tensor.item() to convert a 0-dim tensor to a Python number\n"
     ]
    }
   ],
   "source": [
    "for epoch in range(epochs):\n",
    "    epoch += 1\n",
    "    #convert numpy to torch variable\n",
    "    inputs = Variable(torch.from_numpy(x_train))\n",
    "    labels = Variable(torch.from_numpy(y_train))\n",
    "    \n",
    "    #clear gradients wrt parameters\n",
    "    optimizer.zero_grad()\n",
    "    \n",
    "    #forward to get output\n",
    "    outputs = model(inputs)\n",
    "    \n",
    "    #calculate loss\n",
    "    loss = criterion(outputs, labels)\n",
    "    \n",
    "    #Getting gradients wrt parameters\n",
    "    loss.backward()\n",
    "    \n",
    "    #update parameters\n",
    "    optimizer.step()\n",
    "    \n",
    "    print('epoch {}, loss {}'.format(epoch, loss.data[0]))"
   ]
  },
  {
   "cell_type": "code",
   "execution_count": 18,
   "metadata": {},
   "outputs": [
    {
     "data": {
      "text/plain": [
       "array([[ 0.6018456],\n",
       "       [ 2.6591835],\n",
       "       [ 4.7165213],\n",
       "       [ 6.773859 ],\n",
       "       [ 8.831197 ],\n",
       "       [10.888535 ],\n",
       "       [12.945872 ],\n",
       "       [15.00321  ],\n",
       "       [17.060547 ],\n",
       "       [19.117886 ],\n",
       "       [21.175222 ]], dtype=float32)"
      ]
     },
     "execution_count": 18,
     "metadata": {},
     "output_type": "execute_result"
    }
   ],
   "source": [
    "predicted = model(Variable(torch.from_numpy(x_train))).data.numpy()\n",
    "predicted"
   ]
  },
  {
   "cell_type": "code",
   "execution_count": 19,
   "metadata": {},
   "outputs": [
    {
     "data": {
      "text/plain": [
       "array([[ 1.],\n",
       "       [ 3.],\n",
       "       [ 5.],\n",
       "       [ 7.],\n",
       "       [ 9.],\n",
       "       [11.],\n",
       "       [13.],\n",
       "       [15.],\n",
       "       [17.],\n",
       "       [19.],\n",
       "       [21.]], dtype=float32)"
      ]
     },
     "execution_count": 19,
     "metadata": {},
     "output_type": "execute_result"
    }
   ],
   "source": [
    "y_train"
   ]
  },
  {
   "cell_type": "code",
   "execution_count": 22,
   "metadata": {},
   "outputs": [
    {
     "data": {
      "image/png": "[encoded data removed]",
      "text/plain": [
       "<matplotlib.figure.Figure at 0x7f3c9d909f28>"
      ]
     },
     "metadata": {
      "needs_background": "light"
     },
     "output_type": "display_data"
    }
   ],
   "source": [
    "#clear figure\n",
    "\n",
    "plt.clf()\n",
    "plt.plot(x_train, y_train, 'go', label='True data', alpha=0.5)\n",
    "plt.plot(x_train, predicted, '--', label='Predictions', alpha=0.5)\n",
    "plt.legend(loc='best')\n",
    "plt.show()"
   ]
  },
  {
   "cell_type": "code",
   "execution_count": 23,
   "metadata": {},
   "outputs": [],
   "source": [
    "save_model = False\n",
    "if save_model is True:\n",
    "    torch.save(model.state_dict(), 'awesome_model.pkl')"
   ]
  },
  {
   "cell_type": "code",
   "execution_count": 24,
   "metadata": {},
   "outputs": [],
   "source": [
    "load_model = False\n",
    "if load_model is True:\n",
    "    model.load_state_dict(torch.load('awesome_model.pkl'))"
   ]
  },
  {
   "cell_type": "code",
   "execution_count": null,
   "metadata": {},
   "outputs": [],
   "source": []
  }
 ],
 "metadata": {
  "kernelspec": {
   "display_name": "Python 3",
   "language": "python",
   "name": "python3"
  },
  "language_info": {
   "codemirror_mode": {
    "name": "ipython",
    "version": 3
   },
   "file_extension": ".py",
   "mimetype": "text/x-python",
   "name": "python",
   "nbconvert_exporter": "python",
   "pygments_lexer": "ipython3",
   "version": "3.5.3"
  }
 },
 "nbformat": 4,
 "nbformat_minor": 2
}
